{
 "cells": [
  {
   "cell_type": "code",
   "execution_count": 1,
   "id": "e32c7c14",
   "metadata": {},
   "outputs": [],
   "source": [
    "import shutil, os, re"
   ]
  },
  {
   "cell_type": "code",
   "execution_count": 2,
   "id": "fb84360f",
   "metadata": {},
   "outputs": [],
   "source": [
    "shutil.unpack_archive(filename='unzip_me_for_instructions.zip', format='zip')"
   ]
  },
  {
   "cell_type": "code",
   "execution_count": 3,
   "id": "de473489",
   "metadata": {},
   "outputs": [
    {
     "name": "stdout",
     "output_type": "stream",
     "text": [
      "719-266-2837\n"
     ]
    }
   ],
   "source": [
    "for directory, subdirectories, files in os.walk('extracted_content'):\n",
    "    pattern = r'\\d{3}\\-\\d{3}\\-\\d{4}'\n",
    "    \n",
    "    for file in files:\n",
    "        with open(f'{directory}/{file}', 'r') as opened_file:\n",
    "            for line in opened_file:\n",
    "                result = re.search(pattern, line)\n",
    "                \n",
    "                if result:\n",
    "                    print(result.group())"
   ]
  }
 ],
 "metadata": {
  "kernelspec": {
   "display_name": "Python 3 (ipykernel)",
   "language": "python",
   "name": "python3"
  },
  "language_info": {
   "codemirror_mode": {
    "name": "ipython",
    "version": 3
   },
   "file_extension": ".py",
   "mimetype": "text/x-python",
   "name": "python",
   "nbconvert_exporter": "python",
   "pygments_lexer": "ipython3",
   "version": "3.9.7"
  }
 },
 "nbformat": 4,
 "nbformat_minor": 5
}
