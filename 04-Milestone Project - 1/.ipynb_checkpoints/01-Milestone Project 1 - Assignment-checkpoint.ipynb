{
 "cells": [
  {
   "cell_type": "markdown",
   "metadata": {},
   "source": [
    "___\n",
    "\n",
    "<a href='https://www.udemy.com/user/joseportilla/'><img src='../Pierian_Data_Logo.png'/></a>\n",
    "___\n",
    "<center><em>Content Copyright by Pierian Data</em></center>"
   ]
  },
  {
   "cell_type": "markdown",
   "metadata": {},
   "source": [
    "# Milestone Project 1\n",
    "## Congratulations on making it to your first milestone!\n",
    "You've already learned a ton and are ready to work on a real project.\n",
    "\n",
    "Your assignment: Create a Tic Tac Toe game. You are free to use any IDE you like.\n",
    "\n",
    "Here are the requirements:\n",
    "\n",
    "* 2 players should be able to play the game (both sitting at the same computer)\n",
    "* The board should be printed out every time a player makes a move\n",
    "* You should be able to accept input of the player position and then place a symbol on the board\n",
    "\n",
    "Feel free to use Google to help you figure anything out (but don't just Google \"Tic Tac Toe in Python\" otherwise you won't learn anything!) Keep in mind that this project can take anywhere between several hours to several days.\n",
    "\n",
    "There are 4 Jupyter Notebooks related to this assignment:\n",
    "\n",
    "* This Assignment Notebook\n",
    "* A \"Walkthrough Steps Workbook\" Notebook\n",
    "* A \"Complete Walkthrough Solution\" Notebook\n",
    "* An \"Advanced Solution\" Notebook\n",
    "\n",
    "I encourage you to just try to start the project on your own without referencing any of the notebooks. If you get stuck, check out the next lecture which is a text lecture with helpful hints and steps. If you're still stuck after that, then check out the Walkthrough Steps Workbook, which breaks up the project in steps for you to solve. Still stuck? Then check out the Complete Walkthrough Solution video for more help on approaching the project!"
   ]
  },
  {
   "cell_type": "markdown",
   "metadata": {},
   "source": [
    "There are parts of this that will be a struggle...and that is good! I have complete faith that if you have made it this far through the course you have all the tools and knowledge to tackle this project. Remember, it's totally open book, so take your time, do a little research, and remember:\n",
    "\n",
    "## HAVE FUN!"
   ]
  },
  {
   "cell_type": "code",
   "execution_count": 1,
   "metadata": {},
   "outputs": [],
   "source": [
    "def display_board(game_board):\n",
    "    print('   |   |   ')\n",
    "    print(f' {game_board[0]} | {game_board[1]} | {game_board[2]}')\n",
    "    print('___|___|___')\n",
    "    print('   |   |   ')\n",
    "    print(f' {game_board[3]} | {game_board[4]} | {game_board[5]}')\n",
    "    print('___|___|___')\n",
    "    print('   |   |   ')\n",
    "    print(f' {game_board[6]} | {game_board[7]} | {game_board[8]}')\n",
    "    print('   |   |   ')"
   ]
  },
  {
   "cell_type": "code",
   "execution_count": 2,
   "metadata": {},
   "outputs": [],
   "source": [
    "def get_user_position_choice():    \n",
    "    while True:\n",
    "        position = input('Please, pick a number from 1 to 9: ')\n",
    "        if not position.isdigit():\n",
    "            continue\n",
    "            \n",
    "        position = int(position)\n",
    "\n",
    "        if position < 1 or position > 9:\n",
    "            print(\"You've chose an invalid number. Please, try again.\")\n",
    "            continue\n",
    "        else:\n",
    "            break\n",
    "    \n",
    "    return position"
   ]
  },
  {
   "cell_type": "code",
   "execution_count": 3,
   "metadata": {},
   "outputs": [],
   "source": [
    "def get_user_symbol():\n",
    "    while True:\n",
    "        symbol = input('Please, pick a symbol (X or O): ')\n",
    "        \n",
    "        if symbol not in ['O', 'X']:\n",
    "            print(\"You've picked an invalid symbol. Please, try again.\")\n",
    "            continue\n",
    "            \n",
    "        if symbol == 'X':\n",
    "            return ('X', 'O')\n",
    "        else:\n",
    "            return ('O', 'X')"
   ]
  },
  {
   "cell_type": "code",
   "execution_count": 4,
   "metadata": {},
   "outputs": [],
   "source": [
    "def initial_settings():\n",
    "    first_player_symbol, second_player_symbol = get_user_symbol()\n",
    "    return {1: first_player_symbol, 2: second_player_symbol}"
   ]
  },
  {
   "cell_type": "code",
   "execution_count": 5,
   "metadata": {},
   "outputs": [],
   "source": [
    "def choose_first_player_to_move():\n",
    "    from random import randint\n",
    "    return randint(1, 2)"
   ]
  },
  {
   "cell_type": "code",
   "execution_count": 6,
   "metadata": {},
   "outputs": [],
   "source": [
    "def draw_mark_in_game_board(game_board, mark):\n",
    "    while True:\n",
    "        position = get_user_position_choice() - 1\n",
    "            \n",
    "        if game_board[position] != ' ':\n",
    "            print(\"This position isn't free to use! Pick another one.\")\n",
    "            continue\n",
    "        \n",
    "        game_board[position] = mark\n",
    "        clear_output()\n",
    "        display_board(game_board)\n",
    "        break\n",
    "    \n",
    "    return game_board"
   ]
  },
  {
   "cell_type": "code",
   "execution_count": 7,
   "metadata": {},
   "outputs": [],
   "source": [
    "def check_if_match_finished(game_board, current_player):\n",
    "    if ' ' not in game_board:\n",
    "            print('The game tied!')\n",
    "            display_board(game_board)\n",
    "            return True\n",
    "    \n",
    "    if (game_board[0] != ' ' and game_board[0] == game_board[1] == game_board[2] or\n",
    "            game_board[3] != ' ' and game_board[3] == game_board[4] == game_board[5] or\n",
    "            game_board[6] != ' ' and game_board[6] == game_board[7] == game_board[8] or\n",
    "            game_board[0] != ' ' and game_board[0] == game_board[3] == game_board[6] or\n",
    "            game_board[1] != ' ' and game_board[1] == game_board[4] == game_board[7] or\n",
    "            game_board[2] != ' ' and game_board[2] == game_board[5] == game_board[8] or\n",
    "            game_board[0] != ' ' and game_board[0] == game_board[4] == game_board[8] or\n",
    "            game_board[2] != ' ' and game_board[2] == game_board[4] == game_board[6]):\n",
    "            print(f'Player {current_player} won!\\n')\n",
    "            display_board(game_board)\n",
    "            return True\n",
    "    \n",
    "    return False"
   ]
  },
  {
   "cell_type": "code",
   "execution_count": 8,
   "metadata": {},
   "outputs": [],
   "source": [
    "from IPython.display import clear_output\n",
    "\n",
    "def tic_tac_toe_game():\n",
    "    moves_count = 0\n",
    "    \n",
    "    while True:\n",
    "        if moves_count == 0:\n",
    "            game_board = [' '] * 9\n",
    "            player_settings = initial_settings()\n",
    "            current_player = choose_first_player_to_move()\n",
    "            input(f'Player {current_player} will start the match. Press any key to continue')\n",
    "\n",
    "        game_board = draw_mark_in_game_board(game_board, player_settings[current_player])\n",
    "        moves_count += 1\n",
    "        \n",
    "        is_match_finished = check_if_match_finished(game_board, current_player)\n",
    "        \n",
    "        if is_match_finished:\n",
    "            if input('\\nDo you want to play again? (Y/N): ').upper() == 'Y':\n",
    "                moves_count = 0\n",
    "                continue\n",
    "            else:\n",
    "                break\n",
    "        \n",
    "        if current_player == 1:\n",
    "            current_player = 2\n",
    "        else:\n",
    "            current_player = 1"
   ]
  },
  {
   "cell_type": "code",
   "execution_count": null,
   "metadata": {},
   "outputs": [],
   "source": [
    "tic_tac_toe_game()"
   ]
  }
 ],
 "metadata": {
  "kernelspec": {
   "display_name": "Python 3 (ipykernel)",
   "language": "python",
   "name": "python3"
  },
  "language_info": {
   "codemirror_mode": {
    "name": "ipython",
    "version": 3
   },
   "file_extension": ".py",
   "mimetype": "text/x-python",
   "name": "python",
   "nbconvert_exporter": "python",
   "pygments_lexer": "ipython3",
   "version": "3.9.7"
  }
 },
 "nbformat": 4,
 "nbformat_minor": 1
}
